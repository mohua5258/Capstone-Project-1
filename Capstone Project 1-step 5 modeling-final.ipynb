{
 "cells": [
  {
   "cell_type": "code",
   "execution_count": 1,
   "metadata": {},
   "outputs": [],
   "source": [
    "# After finishing the first half of the project, the following part is the modeling"
   ]
  },
  {
   "cell_type": "code",
   "execution_count": 2,
   "metadata": {},
   "outputs": [],
   "source": [
    "# This is the first guided capstone project\n",
    "#The project is to make a recommendation to Big Mountain Resort to add additional liftchair to help distribution the visitors\n",
    "# This part contains the Data Wrangling, which include the data collection, Data Organize,Data Defination and Data Clean\n",
    "#The idea to improve the distribution of guest is calculate the area vs. liftchair and compare with average in the nation. s\n",
    "# Part 1, Data Collection. The data file is called resort.csv and saveed in the local C drive. So use Python to read the data\n",
    "\n",
    "#Import functions for the project\n",
    "import pandas as pd\n",
    "import numpy as np\n",
    "\n",
    "#Load the pyplot collection of functions from matplotlib, as plt. This will be for the data visualization part \n",
    "import matplotlib.pyplot as plt \n",
    "\n"
   ]
  },
  {
   "cell_type": "code",
   "execution_count": 3,
   "metadata": {},
   "outputs": [
    {
     "data": {
      "text/html": [
       "<div>\n",
       "<style scoped>\n",
       "    .dataframe tbody tr th:only-of-type {\n",
       "        vertical-align: middle;\n",
       "    }\n",
       "\n",
       "    .dataframe tbody tr th {\n",
       "        vertical-align: top;\n",
       "    }\n",
       "\n",
       "    .dataframe thead th {\n",
       "        text-align: right;\n",
       "    }\n",
       "</style>\n",
       "<table border=\"1\" class=\"dataframe\">\n",
       "  <thead>\n",
       "    <tr style=\"text-align: right;\">\n",
       "      <th></th>\n",
       "      <th>Name</th>\n",
       "      <th>Region</th>\n",
       "      <th>state</th>\n",
       "      <th>summit_elev</th>\n",
       "      <th>vertical_drop</th>\n",
       "      <th>base_elev</th>\n",
       "      <th>trams</th>\n",
       "      <th>fastEight</th>\n",
       "      <th>fastSixes</th>\n",
       "      <th>fastQuads</th>\n",
       "      <th>...</th>\n",
       "      <th>LongestRun_mi</th>\n",
       "      <th>SkiableTerrain_ac</th>\n",
       "      <th>Snow Making_ac</th>\n",
       "      <th>daysOpenLastYear</th>\n",
       "      <th>yearsOpen</th>\n",
       "      <th>averageSnowfall</th>\n",
       "      <th>AdultWeekday</th>\n",
       "      <th>AdultWeekend</th>\n",
       "      <th>projectedDaysOpen</th>\n",
       "      <th>NightSkiing_ac</th>\n",
       "    </tr>\n",
       "  </thead>\n",
       "  <tbody>\n",
       "    <tr>\n",
       "      <th>0</th>\n",
       "      <td>Alyeska Resort</td>\n",
       "      <td>Alaska</td>\n",
       "      <td>Alaska</td>\n",
       "      <td>3939</td>\n",
       "      <td>2500</td>\n",
       "      <td>250</td>\n",
       "      <td>1</td>\n",
       "      <td>0.0</td>\n",
       "      <td>0</td>\n",
       "      <td>2</td>\n",
       "      <td>...</td>\n",
       "      <td>1.0</td>\n",
       "      <td>1610.0</td>\n",
       "      <td>113.0</td>\n",
       "      <td>150.0</td>\n",
       "      <td>60.0</td>\n",
       "      <td>669.0</td>\n",
       "      <td>65.0</td>\n",
       "      <td>85.0</td>\n",
       "      <td>150.0</td>\n",
       "      <td>550.0</td>\n",
       "    </tr>\n",
       "    <tr>\n",
       "      <th>1</th>\n",
       "      <td>Eaglecrest Ski Area</td>\n",
       "      <td>Alaska</td>\n",
       "      <td>Alaska</td>\n",
       "      <td>2600</td>\n",
       "      <td>1540</td>\n",
       "      <td>1200</td>\n",
       "      <td>0</td>\n",
       "      <td>0.0</td>\n",
       "      <td>0</td>\n",
       "      <td>0</td>\n",
       "      <td>...</td>\n",
       "      <td>2.0</td>\n",
       "      <td>640.0</td>\n",
       "      <td>60.0</td>\n",
       "      <td>45.0</td>\n",
       "      <td>44.0</td>\n",
       "      <td>350.0</td>\n",
       "      <td>47.0</td>\n",
       "      <td>53.0</td>\n",
       "      <td>90.0</td>\n",
       "      <td>NaN</td>\n",
       "    </tr>\n",
       "    <tr>\n",
       "      <th>2</th>\n",
       "      <td>Hilltop Ski Area</td>\n",
       "      <td>Alaska</td>\n",
       "      <td>Alaska</td>\n",
       "      <td>2090</td>\n",
       "      <td>294</td>\n",
       "      <td>1796</td>\n",
       "      <td>0</td>\n",
       "      <td>0.0</td>\n",
       "      <td>0</td>\n",
       "      <td>0</td>\n",
       "      <td>...</td>\n",
       "      <td>1.0</td>\n",
       "      <td>30.0</td>\n",
       "      <td>30.0</td>\n",
       "      <td>150.0</td>\n",
       "      <td>36.0</td>\n",
       "      <td>69.0</td>\n",
       "      <td>30.0</td>\n",
       "      <td>34.0</td>\n",
       "      <td>152.0</td>\n",
       "      <td>30.0</td>\n",
       "    </tr>\n",
       "    <tr>\n",
       "      <th>3</th>\n",
       "      <td>Arizona Snowbowl</td>\n",
       "      <td>Arizona</td>\n",
       "      <td>Arizona</td>\n",
       "      <td>11500</td>\n",
       "      <td>2300</td>\n",
       "      <td>9200</td>\n",
       "      <td>0</td>\n",
       "      <td>0.0</td>\n",
       "      <td>1</td>\n",
       "      <td>0</td>\n",
       "      <td>...</td>\n",
       "      <td>2.0</td>\n",
       "      <td>777.0</td>\n",
       "      <td>104.0</td>\n",
       "      <td>122.0</td>\n",
       "      <td>81.0</td>\n",
       "      <td>260.0</td>\n",
       "      <td>89.0</td>\n",
       "      <td>89.0</td>\n",
       "      <td>122.0</td>\n",
       "      <td>NaN</td>\n",
       "    </tr>\n",
       "    <tr>\n",
       "      <th>4</th>\n",
       "      <td>Sunrise Park Resort</td>\n",
       "      <td>Arizona</td>\n",
       "      <td>Arizona</td>\n",
       "      <td>11100</td>\n",
       "      <td>1800</td>\n",
       "      <td>9200</td>\n",
       "      <td>0</td>\n",
       "      <td>NaN</td>\n",
       "      <td>0</td>\n",
       "      <td>1</td>\n",
       "      <td>...</td>\n",
       "      <td>1.2</td>\n",
       "      <td>800.0</td>\n",
       "      <td>80.0</td>\n",
       "      <td>115.0</td>\n",
       "      <td>49.0</td>\n",
       "      <td>250.0</td>\n",
       "      <td>74.0</td>\n",
       "      <td>78.0</td>\n",
       "      <td>104.0</td>\n",
       "      <td>80.0</td>\n",
       "    </tr>\n",
       "  </tbody>\n",
       "</table>\n",
       "<p>5 rows × 27 columns</p>\n",
       "</div>"
      ],
      "text/plain": [
       "                  Name   Region    state  summit_elev  vertical_drop  \\\n",
       "0       Alyeska Resort   Alaska   Alaska         3939           2500   \n",
       "1  Eaglecrest Ski Area   Alaska   Alaska         2600           1540   \n",
       "2     Hilltop Ski Area   Alaska   Alaska         2090            294   \n",
       "3     Arizona Snowbowl  Arizona  Arizona        11500           2300   \n",
       "4  Sunrise Park Resort  Arizona  Arizona        11100           1800   \n",
       "\n",
       "   base_elev  trams  fastEight  fastSixes  fastQuads  ...  LongestRun_mi  \\\n",
       "0        250      1        0.0          0          2  ...            1.0   \n",
       "1       1200      0        0.0          0          0  ...            2.0   \n",
       "2       1796      0        0.0          0          0  ...            1.0   \n",
       "3       9200      0        0.0          1          0  ...            2.0   \n",
       "4       9200      0        NaN          0          1  ...            1.2   \n",
       "\n",
       "   SkiableTerrain_ac  Snow Making_ac  daysOpenLastYear  yearsOpen  \\\n",
       "0             1610.0           113.0             150.0       60.0   \n",
       "1              640.0            60.0              45.0       44.0   \n",
       "2               30.0            30.0             150.0       36.0   \n",
       "3              777.0           104.0             122.0       81.0   \n",
       "4              800.0            80.0             115.0       49.0   \n",
       "\n",
       "   averageSnowfall  AdultWeekday  AdultWeekend  projectedDaysOpen  \\\n",
       "0            669.0          65.0          85.0              150.0   \n",
       "1            350.0          47.0          53.0               90.0   \n",
       "2             69.0          30.0          34.0              152.0   \n",
       "3            260.0          89.0          89.0              122.0   \n",
       "4            250.0          74.0          78.0              104.0   \n",
       "\n",
       "   NightSkiing_ac  \n",
       "0           550.0  \n",
       "1             NaN  \n",
       "2            30.0  \n",
       "3             NaN  \n",
       "4            80.0  \n",
       "\n",
       "[5 rows x 27 columns]"
      ]
     },
     "execution_count": 3,
     "metadata": {},
     "output_type": "execute_result"
    }
   ],
   "source": [
    "# Data collection- Import data file resort.csv to a new DaraFrame resort_orignal and compared with original excel spreadsheet\n",
    "resort_original = pd.read_csv(r\"C:\\\\Users\\\\mohua\\\\OneDrive\\\\Documents\\\\unit6\\resort.csv\", index_col=None)\n",
    "resort_original.shape\n",
    "resort_original.head()\n",
    "# The data has 330 column, 27 rows, which did not lose the data. So resort_original will be the raw data for the processing"
   ]
  },
  {
   "cell_type": "code",
   "execution_count": 4,
   "metadata": {},
   "outputs": [],
   "source": [
    "# That's the end of part 1. Data Wrangling"
   ]
  },
  {
   "cell_type": "code",
   "execution_count": 5,
   "metadata": {},
   "outputs": [
    {
     "data": {
      "text/plain": [
       "(330, 23)"
      ]
     },
     "execution_count": 5,
     "metadata": {},
     "output_type": "execute_result"
    }
   ],
   "source": [
    "# Part 2, Data organize and clean\n",
    "# first check the duplicate, we found that \"Region\" seems to be redudant data. The 'tranms' also does not help for this project\n",
    "# So drop these two columns\n",
    "resort=resort_original.drop(['Region','trams','total_chairs'], axis=1)\n",
    "# There is also another spelling confustion. Per information, the \"Surface\" represents 'single' liftchair. To make it clear, change the column index to 'single'\n",
    "resort.rename(columns={'surface': 'single'}, inplace=True)\n",
    "resort.head()\n",
    "#Checked and looks good\n",
    "\n",
    "# We initially want to compare the situation in Montana, but found there are only two data. So the idea is abandoned.Use the whole data\n",
    "#resort_montana=resort[resort['state']=='Montana']\n",
    "#resort=resort_montana\n",
    "# There are some numbers,such as 0,1,2,... from csv file. To better process data, we need to eliminate that column\n",
    "# The idea to eliminate that column is to switch columns and rows. Then set 0,1,2... row as index. Use row 1 to substitue index and delete one role\n",
    "# Switch columns and rows and reset index\n",
    "resort_T=resort.T\n",
    "resort_T.index\n",
    "resort_T.reset_index()\n",
    "#Use the first columns to subsittue index and then drop index row\n",
    "resort_T.columns = resort_T.iloc[0]\n",
    "resort_T=resort_T.drop(resort_T.index[0])\n",
    "#Checked and looked good and then switch back to resort\n",
    "resort=resort_T.T\n",
    "resort.shape"
   ]
  },
  {
   "cell_type": "code",
   "execution_count": 6,
   "metadata": {},
   "outputs": [
    {
     "data": {
      "text/plain": [
       "state                330\n",
       "summit_elev          330\n",
       "vertical_drop        330\n",
       "base_elev            330\n",
       "fastEight            164\n",
       "fastSixes            330\n",
       "fastQuads            330\n",
       "quad                 330\n",
       "triple               330\n",
       "double               330\n",
       "single               330\n",
       "Runs                 326\n",
       "TerrainParks         279\n",
       "LongestRun_mi        325\n",
       "SkiableTerrain_ac    327\n",
       "Snow Making_ac       284\n",
       "daysOpenLastYear     279\n",
       "yearsOpen            329\n",
       "averageSnowfall      316\n",
       "AdultWeekday         276\n",
       "AdultWeekend         279\n",
       "projectedDaysOpen    283\n",
       "NightSkiing_ac       187\n",
       "dtype: int64"
      ]
     },
     "execution_count": 6,
     "metadata": {},
     "output_type": "execute_result"
    }
   ],
   "source": [
    "# The data has been checked again to ensure that there is no missing data \n",
    "resort.count()\n",
    "# Apparantly, there are missing data, such as fastEight,TerrainParks, LogestRun_mi,etc.."
   ]
  },
  {
   "cell_type": "code",
   "execution_count": 7,
   "metadata": {},
   "outputs": [
    {
     "data": {
      "text/plain": [
       "state                41\n",
       "summit_elev          41\n",
       "vertical_drop        41\n",
       "base_elev            41\n",
       "fastEight            41\n",
       "fastSixes            41\n",
       "fastQuads            41\n",
       "quad                 41\n",
       "triple               41\n",
       "double               41\n",
       "single               41\n",
       "Runs                 41\n",
       "TerrainParks         41\n",
       "LongestRun_mi        41\n",
       "SkiableTerrain_ac    41\n",
       "Snow Making_ac       41\n",
       "daysOpenLastYear     41\n",
       "yearsOpen            41\n",
       "averageSnowfall      41\n",
       "AdultWeekday         41\n",
       "AdultWeekend         41\n",
       "projectedDaysOpen    41\n",
       "NightSkiing_ac       41\n",
       "dtype: int64"
      ]
     },
     "execution_count": 7,
     "metadata": {},
     "output_type": "execute_result"
    }
   ],
   "source": [
    "# Use a simple command to drop the results with missing value and reset to the resort_clean\n",
    "resort_clean=resort.dropna()\n",
    "resort_clean.shape\n",
    "resort_clean.count()\n",
    "#Looks good. There are 41 data for the future analysis (24 columns and 41 rows)"
   ]
  },
  {
   "cell_type": "code",
   "execution_count": 8,
   "metadata": {},
   "outputs": [
    {
     "name": "stderr",
     "output_type": "stream",
     "text": [
      "C:\\Users\\mohua\\anaconda3\\lib\\site-packages\\pandas\\core\\frame.py:2963: SettingWithCopyWarning: \n",
      "A value is trying to be set on a copy of a slice from a DataFrame.\n",
      "Try using .loc[row_indexer,col_indexer] = value instead\n",
      "\n",
      "See the caveats in the documentation: https://pandas.pydata.org/pandas-docs/stable/user_guide/indexing.html#returning-a-view-versus-a-copy\n",
      "  self[k1] = value[k2]\n"
     ]
    },
    {
     "data": {
      "text/plain": [
       "state                 object\n",
       "summit_elev          float64\n",
       "vertical_drop        float64\n",
       "base_elev            float64\n",
       "fastEight              int32\n",
       "fastSixes              int32\n",
       "fastQuads              int32\n",
       "quad                   int32\n",
       "triple                 int32\n",
       "double                 int32\n",
       "single                 int32\n",
       "Runs                   int32\n",
       "TerrainParks           int32\n",
       "LongestRun_mi        float64\n",
       "SkiableTerrain_ac    float64\n",
       "Snow Making_ac       float64\n",
       "daysOpenLastYear       int32\n",
       "yearsOpen              int32\n",
       "averageSnowfall      float64\n",
       "AdultWeekday           int32\n",
       "AdultWeekend           int32\n",
       "projectedDaysOpen      int32\n",
       "NightSkiing_ac       float64\n",
       "dtype: object"
      ]
     },
     "execution_count": 8,
     "metadata": {},
     "output_type": "execute_result"
    }
   ],
   "source": [
    "#check column name\n",
    "resort_clean.head()\n",
    "resort_clean.shape\n",
    "#(column 41, rows 24)\n",
    "resort_clean.dtypes\n",
    "# all data type are object,try to change some to the int\n",
    "cols_int= ['fastEight','fastSixes', 'fastQuads', 'quad', 'triple',\n",
    "        'double', 'single','Runs','TerrainParks','daysOpenLastYear','yearsOpen','AdultWeekday',\n",
    "        'AdultWeekend','projectedDaysOpen']\n",
    "resort_clean[cols_int] = resort_clean[cols_int].astype(int)\n",
    "# all data type are object,try to change some to the float\n",
    "cols_float = ['summit_elev', 'vertical_drop', 'base_elev','LongestRun_mi','SkiableTerrain_ac','Snow Making_ac',\n",
    "              'averageSnowfall','NightSkiing_ac']\n",
    "resort_clean[cols_float] = resort_clean[cols_float].astype(float)\n",
    "# state should be string\n",
    "cols_str=['state']\n",
    "resort_clean[cols_str]=resort_clean[cols_str].astype(str)\n",
    "\n",
    "#resort_clean['summit_elev']=resort_clean.summit_elev.astype('int64')\n",
    "\n",
    "resort_clean.dtypes"
   ]
  },
  {
   "cell_type": "code",
   "execution_count": 9,
   "metadata": {},
   "outputs": [
    {
     "name": "stderr",
     "output_type": "stream",
     "text": [
      "C:\\Users\\mohua\\anaconda3\\lib\\site-packages\\ipykernel_launcher.py:13: SettingWithCopyWarning: \n",
      "A value is trying to be set on a copy of a slice from a DataFrame.\n",
      "Try using .loc[row_indexer,col_indexer] = value instead\n",
      "\n",
      "See the caveats in the documentation: https://pandas.pydata.org/pandas-docs/stable/user_guide/indexing.html#returning-a-view-versus-a-copy\n",
      "  del sys.path[0]\n",
      "C:\\Users\\mohua\\anaconda3\\lib\\site-packages\\ipykernel_launcher.py:15: SettingWithCopyWarning: \n",
      "A value is trying to be set on a copy of a slice from a DataFrame.\n",
      "Try using .loc[row_indexer,col_indexer] = value instead\n",
      "\n",
      "See the caveats in the documentation: https://pandas.pydata.org/pandas-docs/stable/user_guide/indexing.html#returning-a-view-versus-a-copy\n",
      "  from ipykernel import kernelapp as app\n"
     ]
    },
    {
     "data": {
      "text/plain": [
       "state                         41\n",
       "summit_elev                   41\n",
       "vertical_drop                 41\n",
       "base_elev                     41\n",
       "fastEight                     41\n",
       "fastSixes                     41\n",
       "fastQuads                     41\n",
       "quad                          41\n",
       "triple                        41\n",
       "double                        41\n",
       "single                        41\n",
       "Runs                          41\n",
       "TerrainParks                  41\n",
       "LongestRun_mi                 41\n",
       "SkiableTerrain_ac             41\n",
       "Snow Making_ac                41\n",
       "daysOpenLastYear              41\n",
       "yearsOpen                     41\n",
       "averageSnowfall               41\n",
       "AdultWeekday                  41\n",
       "AdultWeekend                  41\n",
       "projectedDaysOpen             41\n",
       "NightSkiing_ac                41\n",
       "Fast_liftchair_capacity       41\n",
       "Regular_liftchair_capacity    41\n",
       "dtype: int64"
      ]
     },
     "execution_count": 9,
     "metadata": {},
     "output_type": "execute_result"
    }
   ],
   "source": [
    "# The following part is to explore the data. There are several steps to explore data\n",
    "# 1. Exploration of each individual variable\n",
    "# 2. Assessment of the relationship between each variable and the target variable\n",
    "# 3. Assessment of the interaction between variables\n",
    "# 4. Exploration of data across many dimensions\n",
    "# The useful data will be name of resort, the elevation change,total fast liftchair vs. regular liftchair in the point of\n",
    "# capacity, number of Terriain Parks, longest/shortest Run miles area of the resort\n",
    "# To do this, the data will be further organized\n",
    "# Slice the Elevation data\n",
    "Elevation_summit_resort=resort_clean['summit_elev']\n",
    "Elevation_summit_resort.head()\n",
    "# Calculate the fast liftchair capacity\n",
    "resort_clean['Fast_liftchair_capacity']= 8*resort_clean.fastEight+6*resort_clean.fastSixes+4*resort_clean.fastQuads\n",
    "# Claculate the regular liftchair capacity\n",
    "resort_clean['Regular_liftchair_capacity']= 4*resort_clean.quad+3*resort_clean.triple+2*resort_clean.double+resort_clean.single\n",
    "resort_clean.count()"
   ]
  },
  {
   "cell_type": "code",
   "execution_count": 10,
   "metadata": {},
   "outputs": [],
   "source": [
    "# drop individual liftchair\n",
    "resort_EDA=resort_clean.drop(['vertical_drop','base_elev','fastEight','fastSixes','fastQuads','quad','triple','double','single'], axis=1)"
   ]
  },
  {
   "cell_type": "code",
   "execution_count": 11,
   "metadata": {},
   "outputs": [
    {
     "data": {
      "text/plain": [
       "Name\n",
       "Big Mountain Resort      3000.0\n",
       "Alyeska Resort           1610.0\n",
       "Great Divide             1600.0\n",
       "Silver Mountain          1600.0\n",
       "Pebble Creek Ski Area    1100.0\n",
       "Name: SkiableTerrain_ac, dtype: float64"
      ]
     },
     "execution_count": 11,
     "metadata": {},
     "output_type": "execute_result"
    }
   ],
   "source": [
    "# Investigate the individual Variable\n",
    "# The total Skiable area in the acres and sort the data by descending\n",
    "Total_Skiable_acres=resort_EDA['SkiableTerrain_ac']\n",
    "Total_Skiable_acres_sorted=Total_Skiable_acres.sort_values(ascending=False)\n",
    "Total_Skiable_acres_sorted.head()\n",
    "# Therefore the Big Mountain Resort is the largest resort with skiable area, almost double than the size of the second on"
   ]
  },
  {
   "cell_type": "code",
   "execution_count": 12,
   "metadata": {},
   "outputs": [
    {
     "data": {
      "text/plain": [
       "Name\n",
       "Big Mountain Resort    600.0\n",
       "Sunday River           552.0\n",
       "Bretton Woods          427.0\n",
       "Windham Mountain       280.0\n",
       "Afton Alps             250.0\n",
       "Name: Snow Making_ac, dtype: float64"
      ]
     },
     "execution_count": 12,
     "metadata": {},
     "output_type": "execute_result"
    }
   ],
   "source": [
    "#The total area covered by snow making machine\n",
    "Snow_making_area=resort_EDA['Snow Making_ac']\n",
    "Snow_making_area_sorted=Snow_making_area.sort_values(ascending=False)\n",
    "Snow_making_area_sorted.head()\n",
    "# The Big Mountain Resort also has the largest snow making area when compared with fourth and fiveth place. Also double"
   ]
  },
  {
   "cell_type": "code",
   "execution_count": 13,
   "metadata": {},
   "outputs": [
    {
     "name": "stdout",
     "output_type": "stream",
     "text": [
      "39.21951219512195\n"
     ]
    }
   ],
   "source": [
    "# Analyze the Runs perday\n",
    "Runs_per_day=resort_EDA['Runs']\n",
    "Runs_per_day_sorted=Runs_per_day.sort_values(ascending=False)\n",
    "Runs_per_day_sorted.head()\n",
    "# The higher runs per day number indicated that Big Mountain Resort is very busy with a high running speed for the liftchair\n",
    "Average_Run_per_day=Runs_per_day.mean()\n",
    "print(Average_Run_per_day)\n",
    "# The current run per day for Big Mountain Resort (105 Runs per day) is much higher than the average Runs Per day (39.2 Runs per day)"
   ]
  },
  {
   "cell_type": "code",
   "execution_count": 14,
   "metadata": {},
   "outputs": [
    {
     "data": {
      "text/plain": [
       "Name\n",
       "Big Mountain Resort     600.0\n",
       "Alyeska Resort          550.0\n",
       "Afton Alps              250.0\n",
       "Greek Peak              175.0\n",
       "Blue Mountain Resort    164.0\n",
       "Name: NightSkiing_ac, dtype: float64"
      ]
     },
     "execution_count": 14,
     "metadata": {},
     "output_type": "execute_result"
    }
   ],
   "source": [
    "# night skiing area\n",
    "night_ski_area=resort_EDA['NightSkiing_ac']\n",
    "night_ski_area_sorted=night_ski_area.sort_values(ascending=False)\n",
    "night_ski_area_sorted.head()\n",
    "# It also has the largest night_ski-area"
   ]
  },
  {
   "cell_type": "code",
   "execution_count": 15,
   "metadata": {},
   "outputs": [
    {
     "data": {
      "text/plain": [
       "Name\n",
       "Sunday River            48\n",
       "Afton Alps              45\n",
       "Big Mountain Resort     41\n",
       "Blue Mountain Resort    32\n",
       "Windham Mountain        30\n",
       "dtype: int32"
      ]
     },
     "execution_count": 15,
     "metadata": {},
     "output_type": "execute_result"
    }
   ],
   "source": [
    "# The above data showed the current situation of Big Mountain Resort. The largest area with snow and night ski area. \n",
    "# How about liftchair capacity - fast vs regular and total capacity of the liftchairs\n",
    "Fast_chair_capacity=resort_EDA['Fast_liftchair_capacity']\n",
    "Fast_chair_capacity_sorted=Fast_chair_capacity.sort_values(ascending=False)\n",
    "Fast_chair_capacity_sorted.head()\n",
    "# There are 12 seats in the fast liftchair\n",
    "Regular_chair_capacity=resort_EDA['Regular_liftchair_capacity']\n",
    "Regular_chair_capacity_sorted=Regular_chair_capacity.sort_values(ascending=False)\n",
    "Regular_chair_capacity_sorted.head()\n",
    "# Big Mountain Resort has 29 seats in the regular liftchair\n",
    "# Total chair capacity for the resort\n",
    "Total_chair_capacity=Fast_chair_capacity+Regular_chair_capacity\n",
    "Total_chair_capacity_sorted=Total_chair_capacity.sort_values(ascending=False)\n",
    "Total_chair_capacity_sorted.head()\n",
    "# The Big Mountain Resort has 41 seats"
   ]
  },
  {
   "cell_type": "code",
   "execution_count": 16,
   "metadata": {},
   "outputs": [],
   "source": [
    "# That's all for step 3. steps is to process data and see the potential relationship between variables.\n",
    "# What did data tell us: Big Mountain Resort is large. There are many liftchair there. The next question is why additional lifechair is needed"
   ]
  },
  {
   "cell_type": "code",
   "execution_count": 17,
   "metadata": {},
   "outputs": [
    {
     "data": {
      "text/plain": [
       "[<matplotlib.lines.Line2D at 0x23268058e88>]"
      ]
     },
     "execution_count": 17,
     "metadata": {},
     "output_type": "execute_result"
    },
    {
     "data": {
      "image/png": "[encoded data removed]",
      "text/plain": [
       "<Figure size 432x288 with 1 Axes>"
      ]
     },
     "metadata": {
      "needs_background": "light"
     },
     "output_type": "display_data"
    }
   ],
   "source": [
    "#The following is the modeling\n",
    "# The total Skiable area in the acres vs. total chair capacities\n",
    "frames = [Total_Skiable_acres, Total_chair_capacity]\n",
    "Total_Skiable_acres_to_chair=pd.concat(frames,axis=1)\n",
    "Total_Skiable_acres_to_chair.columns =['Total_Skiable_acres', 'Total_chair_capacities'] \n",
    "Total_Skiable_acres_to_chair.head()\n",
    "# The total skiable area contained Name of Resort, The Total Skiable area,total chair capacities\n",
    "Total_Skiable_acres_to_chair_T=Total_Skiable_acres_to_chair.T\n",
    "Total_Skiable_acres_to_chair_T.index\n",
    "Total_Skiable_acres_to_chair_T.reset_index()\n",
    "#Use the first columns to subsittue index and then drop index row\n",
    "Total_Skiable_acres_to_chair_T.columns =Total_Skiable_acres_to_chair_T.iloc[0]\n",
    "Total_Skiable_acres_to_chair_T=Total_Skiable_acres_to_chair_T.drop(Total_Skiable_acres_to_chair_T.index[0])\n",
    "#Checked and looked good and then switch back to resort\n",
    "Total_Skiable_acres_to_chair_plot=Total_Skiable_acres_to_chair_T.T\n",
    "Total_Skiable_acres_to_chair_plot.head()\n",
    "#setup the scatter plot \n",
    "xs=Total_Skiable_acres_to_chair['Total_Skiable_acres']\n",
    "ys=Total_Skiable_acres_to_chair['Total_chair_capacities']\n",
    "plt.plot(xs,ys,'o',alpha=1)\n",
    "# Plot showed that Big Mountain Resort out\n"
   ]
  },
  {
   "cell_type": "code",
   "execution_count": 18,
   "metadata": {},
   "outputs": [
    {
     "name": "stdout",
     "output_type": "stream",
     "text": [
      "averaage_distribution(chair/acre)= 20.747974250113952\n"
     ]
    },
    {
     "data": {
      "image/png": "[encoded data removed]",
      "text/plain": [
       "<Figure size 432x288 with 1 Axes>"
      ]
     },
     "metadata": {
      "needs_background": "light"
     },
     "output_type": "display_data"
    }
   ],
   "source": [
    "# Compare with the average area covered by per chair capacity. The lower number indicated a betrer distribution of the visitor\n",
    "# 3000 data corresponds to the Big Mountain\n",
    "xs=Total_Skiable_acres_to_chair['Total_Skiable_acres']\n",
    "ys=xs/Total_Skiable_acres_to_chair['Total_chair_capacities']\n",
    "average_distribution_area=ys.mean()\n",
    "print('averaage_distribution(chair/acre)=',average_distribution_area)\n",
    "plt.plot(xs,ys,'o',alpha=1)\n",
    "plt.xlabel('Total_Skiable_acres, Big Mountain Resort=3000')\n",
    "plt.ylabel('average_distribution_area')\n",
    "plt.show()\n",
    "# Results showed that the average area covered by one chair is around 20.4 acres. The Big Mountain Resort is 60 acres / chair\n",
    "# Ths number is much higher than avearge number. The graph showed that majority of the area covered by chair is less than 40 \n",
    "# To compensate the low coverage of the chair, the liftchair will need run much faster\n",
    "# Therefore the total Runs of the Big Mountains should be more than average average"
   ]
  },
  {
   "cell_type": "code",
   "execution_count": 19,
   "metadata": {},
   "outputs": [
    {
     "name": "stdout",
     "output_type": "stream",
     "text": [
      "averaage_runs_perday= 39.21951219512195\n"
     ]
    },
    {
     "data": {
      "image/png": "[encoded data removed]",
      "text/plain": [
       "<Figure size 432x288 with 1 Axes>"
      ]
     },
     "metadata": {
      "needs_background": "light"
     },
     "output_type": "display_data"
    }
   ],
   "source": [
    "# To test the hypothesis, a total run will be investigated\n",
    "xs=Total_Skiable_acres\n",
    "ys=Runs_per_day\n",
    "average_Runs_perday=ys.mean()\n",
    "print('averaage_runs_perday=',average_Runs_perday)\n",
    "plt.plot(xs,ys,'o',alpha=1)\n",
    "plt.xlabel('Total_Skiable_acres, Big Mountain Resort=3000')\n",
    "plt.ylabel('average_Runs_per_day')\n",
    "plt.show()\n",
    "# Results showed that the average runs per day covered by all liftchair is around 39. The Big Mountain Resort is 105 \n",
    "# Ths number is much higher than avearge number, which indicated that it runs faster. To compensate the low coverage of the chair, the liftchair will need run much faster\n",
    "# Therefore the total Runs of the Big Mountains should be more than average average"
   ]
  },
  {
   "cell_type": "code",
   "execution_count": 20,
   "metadata": {},
   "outputs": [
    {
     "name": "stdout",
     "output_type": "stream",
     "text": [
      "averaage_snow_making_area_by_chair(chair/acre)= 7.055659392666297\n"
     ]
    },
    {
     "data": {
      "image/png": "[encoded data removed]",
      "text/plain": [
       "<Figure size 432x288 with 1 Axes>"
      ]
     },
     "metadata": {
      "needs_background": "light"
     },
     "output_type": "display_data"
    }
   ],
   "source": [
    "# Use the similiar method to investigate the snow making area\n",
    "#Compare with the average area covered by per chair capacity. The lower number indicated a betrer distribution of the visitor\n",
    "# 3000 data corresponds to the Big Mountain\n",
    "xs=Snow_making_area\n",
    "ys=xs/Total_chair_capacity\n",
    "average_snow_making_area=ys.mean()\n",
    "print('averaage_snow_making_area_by_chair(chair/acre)=',average_snow_making_area)\n",
    "plt.plot(xs,ys,'o',alpha=1)\n",
    "plt.xlabel('Average_snow_making_area, Big Mountain Resort=600')\n",
    "plt.ylabel('average_snow_making_area per chair')\n",
    "plt.show()\n",
    "# Results showed that the average area covered by one chair is around 7 acres. The Big Mountain Resort is 15 acres / chair\n",
    "# Ths number is much higher than avearge number. This also confirmed that there maybe the issues in the distribution of visitors\n",
    "# Check the night skiing and see"
   ]
  },
  {
   "cell_type": "code",
   "execution_count": 21,
   "metadata": {},
   "outputs": [
    {
     "name": "stdout",
     "output_type": "stream",
     "text": [
      "night_ski_area_by_chair(chair/acre)= 5.748776518966992\n"
     ]
    },
    {
     "data": {
      "image/png": "[encoded data removed]",
      "text/plain": [
       "<Figure size 432x288 with 1 Axes>"
      ]
     },
     "metadata": {
      "needs_background": "light"
     },
     "output_type": "display_data"
    }
   ],
   "source": [
    "# Use the similiar method to investigate the night skiing area\n",
    "#Compare with the average area covered by per chair capacity. The lower number indicated a betrer distribution of the visitor\n",
    "# 3000 data corresponds to the Big Mountain\n",
    "xs=night_ski_area\n",
    "ys=xs/Total_chair_capacity\n",
    "average_night_ski_area_by_chair=ys.mean()\n",
    "print('night_ski_area_by_chair(chair/acre)=',average_night_ski_area_by_chair)\n",
    "plt.plot(xs,ys,'o',alpha=1)\n",
    "plt.xlabel('night_ski_area, Big Mountain Resort=600')\n",
    "plt.ylabel('average_night_ski_area_by_chair')\n",
    "plt.show()\n",
    "# Results showed that the average area covered by one chair is around 5 acres. The Big Mountain Resort is 13 acres / chair\n",
    "# Ths number is much higher than avearge number. This also confirmed that there maybe the issues in the distribution of visitors"
   ]
  },
  {
   "cell_type": "code",
   "execution_count": 22,
   "metadata": {},
   "outputs": [],
   "source": [
    "# We checked total area of resort,snow making area, night ski area covered by per chair\n",
    "# After compared the Big Mountain Resort data to the average, the distribution of visitors is higher than average value within the 44 resorts\n",
    "# The insufficient distribution of visitors will cause faster runs of the liftchair, which will have more runs per day. \n",
    "#The data analysis confirmed all the hypothesis"
   ]
  },
  {
   "cell_type": "code",
   "execution_count": 23,
   "metadata": {},
   "outputs": [],
   "source": [
    "# After we confirmed the issue of distribution visitors, we will move forward to predict the chairs to be added\n",
    "# Suppose we will improve the distribution of the vistors\n",
    "# We will first to setup a model to analyze the data. Then use regressions to predict how many chair will be needed"
   ]
  },
  {
   "cell_type": "code",
   "execution_count": 24,
   "metadata": {},
   "outputs": [
    {
     "data": {
      "image/png": "[encoded data removed]",
      "text/plain": [
       "<Figure size 432x288 with 1 Axes>"
      ]
     },
     "metadata": {
      "needs_background": "light"
     },
     "output_type": "display_data"
    },
    {
     "name": "stdout",
     "output_type": "stream",
     "text": [
      "estimated chairs in Big Mountain Resort= 45.771022798699555\n"
     ]
    }
   ],
   "source": [
    "# Setup model\n",
    "#import statsmodels.formula.api as smf\n",
    "#from scipy.stats import linregress\n",
    "from scipy.stats import linregress\n",
    "import statsmodels.formula.api as smf\n",
    "xs=Snow_making_area\n",
    "ys=Total_chair_capacity\n",
    "res = linregress(xs,ys)\n",
    "plt.clf()\n",
    "x_jitter = xs + np.random.normal(0, 0.15, len(xs))\n",
    "plt.plot(x_jitter, ys, 'o', alpha=1)\n",
    "# Plot the line of best fit\n",
    "fx = np.array([xs.min(),xs.max()])\n",
    "fy = res.intercept+res.slope*fx\n",
    "plt.plot(fx, fy, '-', alpha=0.7)\n",
    "\n",
    "plt.xlabel('Average_snow_making_area, Big Mountain Resort=600')\n",
    "plt.ylabel('Total Chair Capacity')\n",
    "plt.show()\n",
    "\n",
    "fx=600\n",
    "fy= res.intercept+res.slope*fx\n",
    "print ('estimated chairs in Big Mountain Resort=', fy)\n",
    "#The estimated chair under this condition will be 46 chairs. \n",
    "#Currently, Big Mountain has 41 chairs. So 4 more chair will be needed"
   ]
  },
  {
   "cell_type": "code",
   "execution_count": 25,
   "metadata": {},
   "outputs": [
    {
     "data": {
      "image/png": "[encoded data removed]",
      "text/plain": [
       "<Figure size 432x288 with 1 Axes>"
      ]
     },
     "metadata": {
      "needs_background": "light"
     },
     "output_type": "display_data"
    },
    {
     "name": "stdout",
     "output_type": "stream",
     "text": [
      "estimated chairs in Big Mountain Resort= 38.41799913225297\n"
     ]
    }
   ],
   "source": [
    "# Setup model-night skiing area\n",
    "\n",
    "xs=night_ski_area\n",
    "ys=Total_chair_capacity\n",
    "res = linregress(xs,ys)\n",
    "plt.clf()\n",
    "x_jitter = xs + np.random.normal(0, 0.15, len(xs))\n",
    "plt.plot(x_jitter, ys, 'o', alpha=1)\n",
    "# Plot the line of best fit\n",
    "fx = np.array([xs.min(),xs.max()])\n",
    "fy = res.intercept+res.slope*fx\n",
    "plt.plot(fx, fy, '-', alpha=0.7)\n",
    "\n",
    "plt.xlabel('night_ski_area, Big Mountain Resort=600')\n",
    "plt.ylabel('Total Chair Capacity')\n",
    "plt.show()\n",
    "\n",
    "fx=600\n",
    "fy= res.intercept+res.slope*fx\n",
    "print ('estimated chairs in Big Mountain Resort=', fy)\n",
    "# Night Skiing results indicated that Big Mountain Resort needs additional chair if only consider the visitors for night ski\n",
    "# The projected chairs is 39, while Big Mountain is having 41 chairs\n"
   ]
  },
  {
   "cell_type": "code",
   "execution_count": 27,
   "metadata": {},
   "outputs": [
    {
     "name": "stdout",
     "output_type": "stream",
     "text": [
      "Intercept           9.306628\n",
      "Snow_making_area    0.055338\n",
      "night_ski_area      0.010214\n",
      "dtype: float64\n",
      "0    43.530994\n",
      "1    43.635216\n",
      "2    43.739439\n",
      "3    43.843662\n",
      "4    43.947884\n",
      "dtype: float64\n"
     ]
    }
   ],
   "source": [
    "# Since the snow making area results support adding more liftchair\n",
    "# and night ski result did not support\n",
    "# We will use multivariation statistical model to see whehter Big Mountain Resort really need \n",
    "# additional liftchain under night_ski,snow_making_area\n",
    "from scipy.stats import linregress\n",
    "import statsmodels.formula.api as smf\n",
    "frames = [Snow_making_area,night_ski_area, Total_chair_capacity]\n",
    "subset=pd.concat(frames,axis=1)\n",
    "subset.columns =['Snow_making_area','night_ski_area', 'Total_chair_capacities'] \n",
    "subset.head()\n",
    "\n",
    "#Run regression with StatsModels\n",
    "results = smf.ols('Total_chair_capacities ~ Snow_making_area+night_ski_area', data = subset).fit()\n",
    "print(results.params)\n",
    "df = pd.DataFrame()\n",
    "df['night_ski_area']=np.linspace(100,600)\n",
    "df['Snow_making_area']=600\n",
    "pred = results.predict(df)\n",
    "print(pred.head())\n",
    "# The results indicated that \n",
    "# 1) Snow making area will contribute more to the total chairs. The coefficient is 0.055 for snow making area vs. night ski area (0,01)\n",
    "# The model predicted that Big Mountain needs 45 chairs. Currently there are only 41 chairs. So at least 4 chairs will be needed "
   ]
  },
  {
   "cell_type": "code",
   "execution_count": 31,
   "metadata": {},
   "outputs": [
    {
     "data": {
      "image/png": "[encoded data removed]",
      "text/plain": [
       "<Figure size 432x288 with 1 Axes>"
      ]
     },
     "metadata": {
      "needs_background": "light"
     },
     "output_type": "display_data"
    }
   ],
   "source": [
    "# The project night ski vs. total chair is plotted and compare with original data\n",
    "# plot the snow making 600 acres, the total chair need for the night ski \n",
    "plt.plot(night_ski_area,Total_chair_capacity,'o',alpha=0.5)\n",
    "\n",
    "plt.plot(df['night_ski_area'], pred, label='Age 30')\n",
    "\n",
    "# Label axes\n",
    "plt.xlabel('night ski area')\n",
    "plt.ylabel('Total chairs')\n",
    "plt.show()"
   ]
  },
  {
   "cell_type": "code",
   "execution_count": null,
   "metadata": {},
   "outputs": [],
   "source": [
    "#output the data file to review\n",
    "resort_clean.to_csv(r\"C:\\\\Users\\\\mohua\\\\OneDrive\\\\Documents\\\\unit6\\resort_clean.csv\")\n",
    "resort_EDA.to_csv(r\"C:\\\\Users\\\\mohua\\\\OneDrive\\\\Documents\\\\unit6\\resort_EDA.csv\")"
   ]
  }
 ],
 "metadata": {
  "kernelspec": {
   "display_name": "Python 3",
   "language": "python",
   "name": "python3"
  },
  "language_info": {
   "codemirror_mode": {
    "name": "ipython",
    "version": 3
   },
   "file_extension": ".py",
   "mimetype": "text/x-python",
   "name": "python",
   "nbconvert_exporter": "python",
   "pygments_lexer": "ipython3",
   "version": "3.7.6"
  }
 },
 "nbformat": 4,
 "nbformat_minor": 4
}
